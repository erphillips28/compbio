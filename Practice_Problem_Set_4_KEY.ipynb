{
  "nbformat": 4,
  "nbformat_minor": 0,
  "metadata": {
    "colab": {
      "provenance": []
    },
    "kernelspec": {
      "name": "python3",
      "display_name": "Python 3"
    },
    "language_info": {
      "name": "python"
    }
  },
  "cells": [
    {
      "cell_type": "markdown",
      "metadata": {
        "id": "8PNr6zYPBpm4"
      },
      "source": [
        "## <font color = darkblue>Practice Problem Set 4 - KEY\n",
        "    \n",
        "This set of practice problems is to help review performing basic statistics using `scipy` and `statsmodels`. "
      ]
    },
    {
      "cell_type": "code",
      "execution_count": null,
      "metadata": {
        "id": "5D0Ej75sBpm9"
      },
      "outputs": [],
      "source": [
        "# Import required libraries\n",
        "import numpy as np\n",
        "import pandas as pd\n",
        "import scipy \n",
        "from scipy import stats\n",
        "import statsmodels.stats.multitest as smm\n",
        "import matplotlib.pyplot as plt\n",
        "from statsmodels.formula.api import ols\n"
      ]
    },
    {
      "cell_type": "code",
      "execution_count": null,
      "metadata": {
        "id": "SS4si0UCBpm-"
      },
      "outputs": [],
      "source": [
        "pd.set_option('display.precision', 2)\n",
        "pd.set_option('display.max_columns',10)\n"
      ]
    },
    {
      "cell_type": "markdown",
      "metadata": {
        "id": "wxgGCDo5Bpm_"
      },
      "source": [
        "#### <font color=darkblue> Start by importing  the expression-metadata merged spreadsheet, so that you've got something to work with."
      ]
    },
    {
      "cell_type": "code",
      "execution_count": null,
      "metadata": {
        "id": "Qp1GBjHOBpm_"
      },
      "outputs": [],
      "source": [
        "# importing the melanoma dataset\n",
        "melanoma_log2 = pd.read_excel('melanoma_zerosRemoved_log2transformed_2023.xlsx',index_col = 0)"
      ]
    },
    {
      "cell_type": "markdown",
      "metadata": {
        "id": "6szuNJt3BpnA"
      },
      "source": [
        "Like we did in class, extract out the gene expression data specific to the different stages and different cell lines."
      ]
    },
    {
      "cell_type": "code",
      "execution_count": null,
      "metadata": {
        "id": "FNoV7Er_BpnB"
      },
      "outputs": [],
      "source": [
        "# Extracting out only the gene expression data from the normal samples and the metastatic samples\n",
        "normalExp = melanoma_log2.loc[melanoma_log2.Stage == 'primary melanocytes','A1BG':]\n",
        "metastaticExp = melanoma_log2.loc[melanoma_log2.Stage == 'metastatic','A1BG':]\n",
        "\n",
        "# Extracting out only the gene expression dat from each of the cell line samples\n",
        "FMexp = melanoma_log2.loc[melanoma_log2.cell_line == 'FM','A1BG':]\n",
        "SK28exp = melanoma_log2.loc[melanoma_log2.cell_line == 'SK_MEL_28','A1BG':]\n",
        "SK147exp = melanoma_log2.loc[melanoma_log2.cell_line == 'SK_MEL_147','A1BG':]\n",
        "UACCexp = melanoma_log2.loc[melanoma_log2.cell_line == 'UACC_62','A1BG':]"
      ]
    },
    {
      "cell_type": "markdown",
      "metadata": {
        "id": "H2jD08UXBpnC"
      },
      "source": [
        "Then, calculate the overall variance, sort it in descending order, and extract gene names for the top 10 most variably expressed genes."
      ]
    },
    {
      "cell_type": "code",
      "execution_count": null,
      "metadata": {
        "id": "Ozb32_7RBpnE",
        "outputId": "0e38e74d-db3c-4020-ac7c-5ef73f3b3130"
      },
      "outputs": [
        {
          "data": {
            "text/plain": [
              "PMEL     47.63\n",
              "TYRP1    38.53\n",
              "AEBP1    36.08\n",
              "GLUL     33.23\n",
              "TYR      32.25\n",
              "dtype: float64"
            ]
          },
          "execution_count": 7,
          "metadata": {},
          "output_type": "execute_result"
        },
        {
          "data": {
            "text/plain": [
              "Index(['PMEL', 'TYRP1', 'AEBP1', 'GLUL', 'TYR', 'EEF1A2', 'CDC42EP1', 'A2M',\n",
              "       'SOD3', 'TGFBI'],\n",
              "      dtype='object')"
            ]
          },
          "execution_count": 7,
          "metadata": {},
          "output_type": "execute_result"
        }
      ],
      "source": [
        "# calculates the overall variance df.var() and sorts it in descending order\n",
        "overall_variance = melanoma_log2.loc[:,'A1BG':].var()\n",
        "overall_variance.sort_values(inplace = True, ascending= False)\n",
        "overall_variance.head()\n",
        "\n",
        "# extract gene names for top 10 most variably expressed genes\n",
        "topvarGens = overall_variance.index[:10]\n",
        "topvarGens"
      ]
    },
    {
      "cell_type": "markdown",
      "metadata": {
        "id": "MwNAHvpwBpnF"
      },
      "source": [
        "### <font color = blue>Comparing Samples:"
      ]
    },
    {
      "cell_type": "markdown",
      "metadata": {
        "id": "nJry3oiLBpnG"
      },
      "source": [
        "1. Compare the expression data from the normal samples and the metastatic samples for the gene TYRP1 using a parametric test and then non-parametric test.\n",
        "\n",
        "    (Hint: You're comparing two samples here.)"
      ]
    },
    {
      "cell_type": "code",
      "execution_count": null,
      "metadata": {
        "id": "axQISpGiBpnH",
        "outputId": "39897f09-bfd3-4ae5-a497-6136e200e83d"
      },
      "outputs": [
        {
          "data": {
            "text/plain": [
              "7.633007637287068"
            ]
          },
          "execution_count": 8,
          "metadata": {},
          "output_type": "execute_result"
        },
        {
          "data": {
            "text/plain": [
              "1.7723103638346948e-05"
            ]
          },
          "execution_count": 8,
          "metadata": {},
          "output_type": "execute_result"
        }
      ],
      "source": [
        "# Student's t-test (parametric): tests whether the means of two independent samples are significantly different\n",
        "stat, p = stats.ttest_ind(normalExp.TYRP1,metastaticExp.TYRP1)\n",
        "stat\n",
        "p"
      ]
    },
    {
      "cell_type": "code",
      "execution_count": null,
      "metadata": {
        "id": "lwgUlGQrBpnI",
        "outputId": "340c2960-f024-4f19-efb0-579119f4ba21"
      },
      "outputs": [
        {
          "data": {
            "text/plain": [
              "0.008115024287306677"
            ]
          },
          "execution_count": 9,
          "metadata": {},
          "output_type": "execute_result"
        }
      ],
      "source": [
        "# Mann-Whitney U-test (non-parametric): tests whether the distributions of two independent samples are equal or not\n",
        "stat, p = stats.mannwhitneyu(normalExp.TYRP1,metastaticExp.TYRP1)\n",
        "p"
      ]
    },
    {
      "cell_type": "markdown",
      "metadata": {
        "id": "y3BavuNOBpnJ"
      },
      "source": [
        "2. Compare the expression data for gene TYRP1 across all four cell lines using a parametric test and then non-parametric test."
      ]
    },
    {
      "cell_type": "code",
      "execution_count": null,
      "metadata": {
        "id": "syZ9IGPzBpnJ",
        "outputId": "a51b0c4d-60a9-4632-8903-a8d98099fe89"
      },
      "outputs": [
        {
          "data": {
            "text/plain": [
              "1.4222775663570639e-08"
            ]
          },
          "execution_count": 10,
          "metadata": {},
          "output_type": "execute_result"
        }
      ],
      "source": [
        "# ANOVA (parametric) lets us see if any one of the cell lines has a significant difference in the mean\n",
        "stat, p = stats.f_oneway(FMexp.TYRP1, SK147exp.TYRP1, SK28exp.TYRP1, UACCexp.TYRP1)\n",
        "p"
      ]
    },
    {
      "cell_type": "code",
      "execution_count": null,
      "metadata": {
        "id": "i3M2weJ1BpnK",
        "outputId": "9a53dc55-7dd3-44a0-cc49-ba5e16d8eb25"
      },
      "outputs": [
        {
          "data": {
            "text/plain": [
              "0.01878535576146058"
            ]
          },
          "execution_count": 11,
          "metadata": {},
          "output_type": "execute_result"
        }
      ],
      "source": [
        "# The K-W H test (non-parametric) lets us see if any one of the cell lines has a significant difference in the mean\n",
        "stat, p = stats.kruskal(FMexp.TYRP1, SK147exp.TYRP1, SK28exp.TYRP1, UACCexp.TYRP1)\n",
        "p"
      ]
    }
  ]
}