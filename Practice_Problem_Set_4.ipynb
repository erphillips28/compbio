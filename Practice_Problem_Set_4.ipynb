{
  "nbformat": 4,
  "nbformat_minor": 0,
  "metadata": {
    "colab": {
      "provenance": []
    },
    "kernelspec": {
      "name": "python3",
      "display_name": "Python 3"
    },
    "language_info": {
      "name": "python"
    }
  },
  "cells": [
    {
      "cell_type": "markdown",
      "metadata": {
        "id": "8PNr6zYPBpm4"
      },
      "source": [
        "## <font color = darkblue>Practice Problem Set 4\n",
        "    \n",
        "This set of practice problems is to help review performing basic statistics using `scipy` and `statsmodels`. "
      ]
    },
    {
      "cell_type": "code",
      "execution_count": null,
      "metadata": {
        "id": "5D0Ej75sBpm9"
      },
      "outputs": [],
      "source": [
        "# Import required libraries\n",
        "import numpy as np\n",
        "import pandas as pd\n",
        "import scipy \n",
        "from scipy import stats\n",
        "import statsmodels.stats.multitest as smm\n",
        "import matplotlib.pyplot as plt\n",
        "from statsmodels.formula.api import ols\n"
      ]
    },
    {
      "cell_type": "code",
      "execution_count": null,
      "metadata": {
        "id": "SS4si0UCBpm-"
      },
      "outputs": [],
      "source": [
        "pd.set_option('display.precision', 2)\n",
        "pd.set_option('display.max_columns',10)\n"
      ]
    },
    {
      "cell_type": "markdown",
      "metadata": {
        "id": "wxgGCDo5Bpm_"
      },
      "source": [
        "#### <font color=darkblue> Start by importing  the expression-metadata merged spreadsheet, so that you've got something to work with."
      ]
    },
    {
      "cell_type": "code",
      "source": [],
      "metadata": {
        "id": "ewsza1oVDPhh"
      },
      "execution_count": null,
      "outputs": []
    },
    {
      "cell_type": "markdown",
      "metadata": {
        "id": "6szuNJt3BpnA"
      },
      "source": [
        "Like we did in class, extract out the gene expression data specific to the different stages and different cell lines."
      ]
    },
    {
      "cell_type": "code",
      "source": [],
      "metadata": {
        "id": "k-m72sSADQGx"
      },
      "execution_count": null,
      "outputs": []
    },
    {
      "cell_type": "markdown",
      "metadata": {
        "id": "H2jD08UXBpnC"
      },
      "source": [
        "Then, calculate the overall variance, sort it in descending order, and extract gene names for the top 10 most variably expressed genes."
      ]
    },
    {
      "cell_type": "code",
      "source": [],
      "metadata": {
        "id": "GwImLUkMDRo4"
      },
      "execution_count": null,
      "outputs": []
    },
    {
      "cell_type": "markdown",
      "metadata": {
        "id": "MwNAHvpwBpnF"
      },
      "source": [
        "### <font color = blue>Comparing Samples:"
      ]
    },
    {
      "cell_type": "markdown",
      "metadata": {
        "id": "nJry3oiLBpnG"
      },
      "source": [
        "1. Compare the expression data from the normal samples and the metastatic samples for the gene TYRP1 using a parametric test and then non-parametric test.\n",
        "\n",
        "    (Hint: You're comparing two samples here.)"
      ]
    },
    {
      "cell_type": "code",
      "source": [],
      "metadata": {
        "id": "4FC-liYuDTVd"
      },
      "execution_count": null,
      "outputs": []
    },
    {
      "cell_type": "code",
      "source": [],
      "metadata": {
        "id": "nBofVNnZDZPz"
      },
      "execution_count": null,
      "outputs": []
    },
    {
      "cell_type": "markdown",
      "metadata": {
        "id": "y3BavuNOBpnJ"
      },
      "source": [
        "2. Compare the expression data for gene TYRP1 across all four cell lines using a parametric test and then non-parametric test."
      ]
    },
    {
      "cell_type": "code",
      "source": [],
      "metadata": {
        "id": "7gfK7SfHDbl0"
      },
      "execution_count": null,
      "outputs": []
    },
    {
      "cell_type": "code",
      "source": [],
      "metadata": {
        "id": "8PWR_yFhDbjL"
      },
      "execution_count": null,
      "outputs": []
    }
  ]
}