{
  "cells": [
    {
      "cell_type": "markdown",
      "metadata": {
        "id": "uzjyJP9TafjS"
      },
      "source": [
        "# Homework 1\n",
        "\n",
        "In this homework, you'll be creating your own function to perform a mathematical operation on a data frame that you import from an Excel spreadsheet. "
      ]
    },
    {
      "cell_type": "markdown",
      "metadata": {
        "id": "j385grYPa3db"
      },
      "source": [
        "1. Import the `numpy` and `pandas` libraries."
      ]
    },
    {
      "cell_type": "code",
      "execution_count": 49,
      "metadata": {
        "id": "HXIyyAAAaTjY"
      },
      "outputs": [],
      "source": [
        "import numpy as np\n",
        "import pandas as pd\n",
        "#import scipy as sp\n",
        "from scipy import stats\n"
      ]
    },
    {
      "cell_type": "markdown",
      "metadata": {
        "id": "dvoLVO3Nc4BF"
      },
      "source": [
        "2. Import the spreadsheet `covid_worldwide.csv`, which reports COVID cases and fatalities for each country worldwide (adapted from [Kaggle](https://www.kaggle.com/datasets/themrityunjaypathak/covid-cases-and-deaths-worldwide?resource=download)) and store that information into a variable called `data`. Please use the column called \"Country\" (i.e. the second column from the left) as your index column. Then use `data.head()` to show the start of the data frame.\n",
        "\n",
        "**Hint:** The function `pandas.read_csv()` reads in .csv files, and you can use it in a similar way as we did with `pandas.read_excel()` to read in Excel files in class."
      ]
    },
    {
      "cell_type": "code",
      "execution_count": 31,
      "metadata": {
        "id": "y5OqoTW1gbU8"
      },
      "outputs": [
        {
          "data": {
            "text/html": [
              "<div>\n",
              "<style scoped>\n",
              "    .dataframe tbody tr th:only-of-type {\n",
              "        vertical-align: middle;\n",
              "    }\n",
              "\n",
              "    .dataframe tbody tr th {\n",
              "        vertical-align: top;\n",
              "    }\n",
              "\n",
              "    .dataframe thead th {\n",
              "        text-align: right;\n",
              "    }\n",
              "</style>\n",
              "<table border=\"1\" class=\"dataframe\">\n",
              "  <thead>\n",
              "    <tr style=\"text-align: right;\">\n",
              "      <th></th>\n",
              "      <th>Serial Number</th>\n",
              "      <th>Country</th>\n",
              "      <th>Total Cases</th>\n",
              "      <th>Total Deaths</th>\n",
              "      <th>Total Recovered</th>\n",
              "      <th>Active Cases</th>\n",
              "      <th>Total Test</th>\n",
              "      <th>Population</th>\n",
              "    </tr>\n",
              "  </thead>\n",
              "  <tbody>\n",
              "    <tr>\n",
              "      <th>0</th>\n",
              "      <td>1</td>\n",
              "      <td>USA</td>\n",
              "      <td>104196861</td>\n",
              "      <td>1132935.0</td>\n",
              "      <td>101322779.0</td>\n",
              "      <td>1741147.0</td>\n",
              "      <td>1.159833e+09</td>\n",
              "      <td>3.348053e+08</td>\n",
              "    </tr>\n",
              "    <tr>\n",
              "      <th>1</th>\n",
              "      <td>2</td>\n",
              "      <td>India</td>\n",
              "      <td>44682784</td>\n",
              "      <td>530740.0</td>\n",
              "      <td>44150289.0</td>\n",
              "      <td>1755.0</td>\n",
              "      <td>9.152658e+08</td>\n",
              "      <td>1.406632e+09</td>\n",
              "    </tr>\n",
              "    <tr>\n",
              "      <th>2</th>\n",
              "      <td>3</td>\n",
              "      <td>France</td>\n",
              "      <td>39524311</td>\n",
              "      <td>164233.0</td>\n",
              "      <td>39264546.0</td>\n",
              "      <td>95532.0</td>\n",
              "      <td>2.714902e+08</td>\n",
              "      <td>6.558452e+07</td>\n",
              "    </tr>\n",
              "    <tr>\n",
              "      <th>3</th>\n",
              "      <td>4</td>\n",
              "      <td>Germany</td>\n",
              "      <td>37779833</td>\n",
              "      <td>165711.0</td>\n",
              "      <td>37398100.0</td>\n",
              "      <td>216022.0</td>\n",
              "      <td>1.223324e+08</td>\n",
              "      <td>8.388360e+07</td>\n",
              "    </tr>\n",
              "    <tr>\n",
              "      <th>4</th>\n",
              "      <td>5</td>\n",
              "      <td>Brazil</td>\n",
              "      <td>36824580</td>\n",
              "      <td>697074.0</td>\n",
              "      <td>35919372.0</td>\n",
              "      <td>208134.0</td>\n",
              "      <td>6.377617e+07</td>\n",
              "      <td>2.153536e+08</td>\n",
              "    </tr>\n",
              "  </tbody>\n",
              "</table>\n",
              "</div>"
            ],
            "text/plain": [
              "   Serial Number  Country  Total Cases  Total Deaths  Total Recovered  \\\n",
              "0              1      USA    104196861     1132935.0      101322779.0   \n",
              "1              2    India     44682784      530740.0       44150289.0   \n",
              "2              3   France     39524311      164233.0       39264546.0   \n",
              "3              4  Germany     37779833      165711.0       37398100.0   \n",
              "4              5   Brazil     36824580      697074.0       35919372.0   \n",
              "\n",
              "   Active Cases    Total Test    Population  \n",
              "0     1741147.0  1.159833e+09  3.348053e+08  \n",
              "1        1755.0  9.152658e+08  1.406632e+09  \n",
              "2       95532.0  2.714902e+08  6.558452e+07  \n",
              "3      216022.0  1.223324e+08  8.388360e+07  \n",
              "4      208134.0  6.377617e+07  2.153536e+08  "
            ]
          },
          "execution_count": 31,
          "metadata": {},
          "output_type": "execute_result"
        }
      ],
      "source": [
        "dh = pd.read_csv('covid_worldwide.csv')\n",
        "data = dh.to_numpy\n",
        "dh.head()"
      ]
    },
    {
      "cell_type": "code",
      "execution_count": 34,
      "metadata": {},
      "outputs": [],
      "source": [
        "tds = dh['Total Deaths']\n",
        "\n",
        "t3d = np.ndarray(3)\n",
        "#type(t3d)"
      ]
    },
    {
      "cell_type": "code",
      "execution_count": 45,
      "metadata": {},
      "outputs": [
        {
          "name": "stdout",
          "output_type": "stream",
          "text": [
            "0    1132935.0\n",
            "1     530740.0\n",
            "2     164233.0\n",
            "Name: Total Deaths, dtype: float64\n"
          ]
        },
        {
          "data": {
            "text/plain": [
              "method"
            ]
          },
          "execution_count": 45,
          "metadata": {},
          "output_type": "execute_result"
        }
      ],
      "source": [
        "t3d[:] = tds.loc[0:2]\n",
        "print(t3d)\n",
        "T3D = t3d.to_numpy\n",
        "type(T3D)"
      ]
    },
    {
      "cell_type": "markdown",
      "metadata": {
        "id": "wNvFmSFtgbwc"
      },
      "source": [
        "3. Define a function called `geom_mean3` that accepts as input an ndarray with 3 elements, calculates the geometric mean of the elements of the array, and outputs the resulting geometric mean value.\n",
        "\n",
        "**Hints**: The geometric mean formula can be found [here](https://byjus.com/geometric-mean-formula/), and the *n*th root of a value is equivalent to calculating the exponent of (1/*n*)."
      ]
    },
    {
      "cell_type": "code",
      "execution_count": 50,
      "metadata": {
        "id": "T7OX5MHQhpDp"
      },
      "outputs": [],
      "source": [
        "def gm3(a):\n",
        "    b = stats.gmean(a)\n",
        "    return(b)\n",
        "\n"
      ]
    },
    {
      "cell_type": "markdown",
      "metadata": {
        "id": "pDDSklxNjJp0"
      },
      "source": [
        "4. Create a variable called `Top3Deaths` to store as an ndarray the values of \"Total Deaths\" from the countries represented in the first 3 rows. The first element in the ndarray will be the number of total deaths from the country in the first row of the data frame, the second element in the ndarray will be the number of total deaths from the country in the second row, etc.\n",
        "**Hints**: You will likely need to slice a subset from the data frame using `.iloc[]` or `.loc[]`, and also use `.to_numpy()`"
      ]
    },
    {
      "cell_type": "code",
      "execution_count": null,
      "metadata": {
        "id": "_S29ZaASjJC3"
      },
      "outputs": [],
      "source": []
    },
    {
      "cell_type": "markdown",
      "metadata": {
        "id": "rB0rb6R4jRN7"
      },
      "source": [
        "5. Use the function that you created in question 3 to calculate the geometric mean of the values in Top3Deaths."
      ]
    },
    {
      "cell_type": "code",
      "execution_count": 51,
      "metadata": {
        "id": "4kXYKSobjQix"
      },
      "outputs": [
        {
          "name": "stdout",
          "output_type": "stream",
          "text": [
            "462220.3690539412\n"
          ]
        }
      ],
      "source": [
        "print(gm3(t3d))"
      ]
    },
    {
      "cell_type": "code",
      "execution_count": null,
      "metadata": {},
      "outputs": [],
      "source": []
    }
  ],
  "metadata": {
    "colab": {
      "provenance": []
    },
    "kernelspec": {
      "display_name": "Python 3",
      "name": "python3"
    },
    "language_info": {
      "name": "python",
      "version": "3.9.12"
    }
  },
  "nbformat": 4,
  "nbformat_minor": 0
}
