{
  "nbformat": 4,
  "nbformat_minor": 0,
  "metadata": {
    "colab": {
      "provenance": []
    },
    "kernelspec": {
      "name": "python3",
      "display_name": "Python 3"
    },
    "language_info": {
      "name": "python"
    }
  },
  "cells": [
    {
      "cell_type": "markdown",
      "source": [
        "# Lecture 4 - Basic Statistics I"
      ],
      "metadata": {
        "id": "m8Lmxta-d6us"
      }
    },
    {
      "cell_type": "markdown",
      "source": [
        "## Today's Key Takeaways\n",
        "\n",
        "- Understanding distributions\n",
        " - Normal distribution\n",
        "- Testing for **difference** between two distributions\n"
      ],
      "metadata": {
        "id": "A_7Fa9KkeGb5"
      }
    },
    {
      "cell_type": "markdown",
      "source": [
        "## Basic Statistics with `scipy` and `statsmodels`\n",
        "\n",
        "The `scipy` library expands the `numpy` suite of mathematical functions. Like `numpy`, these are broken up into sublibraries. We'll use the `stats` sublibary to run a t-test on our highly variable genes, and use ANOVA on one of those genes. \n",
        "\n",
        "Note that we used a new method of importing. Some libraries, like scipy, have multiple sub-libraries. You can import just the sub-library using the `from` command. This saves memory and time. \n",
        "\n",
        "We are mostly going to use the stats sublibrary, but we imported all of scipy so we can look over the help file and functions.\n",
        "\n",
        "For more info about basic statistical testing, go [here](https://machinelearningmastery.com/statistical-hypothesis-tests-in-python-cheat-sheet/) and [here](http://scipy-lectures.org/packages/statistics/index.html)."
      ],
      "metadata": {
        "id": "w2WEOXqzbDLW"
      }
    },
    {
      "cell_type": "code",
      "source": [
        "# Import required libraries\n",
        "import numpy as np\n",
        "import pandas as pd\n",
        "import scipy \n",
        "from scipy import stats\n",
        "import statsmodels.stats.multitest as smm\n",
        "import statsmodels.stats.nonparametric as nonparam \n",
        "import matplotlib.pyplot as plt\n",
        "from statsmodels.formula.api import ols\n",
        "import seaborn as sns"
      ],
      "metadata": {
        "id": "XWG-lT2lbVaR"
      },
      "execution_count": null,
      "outputs": []
    },
    {
      "cell_type": "code",
      "source": [
        "# Setting some pandas preferences\n",
        "pd.set_option('display.precision', 2)\n",
        "pd.set_option('display.max_columns',10)"
      ],
      "metadata": {
        "id": "bR2U3sZG-y96"
      },
      "execution_count": null,
      "outputs": []
    },
    {
      "cell_type": "markdown",
      "source": [
        "### Start by importing our expression dataset\n",
        "\n",
        "We're going to start by importing data the expression-metadata merged spreadsheet, so that we've got something to work with."
      ],
      "metadata": {
        "id": "sMMT_fLMbfuN"
      }
    },
    {
      "cell_type": "code",
      "source": [
        "# Alternative way to bring in Data\n",
        "from google.colab import files\n",
        "uploaded = files.upload()"
      ],
      "metadata": {
        "id": "YUWfE7UugyLH"
      },
      "execution_count": null,
      "outputs": []
    },
    {
      "cell_type": "code",
      "source": [
        "# importing the melanoma dataset\n",
        "melanoma_log2 = pd.read_excel('melanoma_zerosRemoved_log2transformed_2023.xlsx',index_col = 0)\n",
        "melanoma_log2.head()"
      ],
      "metadata": {
        "id": "V6V2duv5g2JG"
      },
      "execution_count": null,
      "outputs": []
    },
    {
      "cell_type": "markdown",
      "source": [
        "We're also going to extract out data frames specific to the different stages, and specific to the cell lines."
      ],
      "metadata": {
        "id": "r-eFHaYLk4Pq"
      }
    },
    {
      "cell_type": "code",
      "source": [
        "# Extracting out only the gene expression dat from the normal samples and the metastatic samples\n",
        "normalExp = melanoma_log2.loc[melanoma_log2.Stage == 'primary melanocytes','A1BG':]\n",
        "metastaticExp = melanoma_log2.loc[melanoma_log2.Stage == 'metastatic','A1BG':]\n",
        "print(normalExp)\n",
        "print(metastaticExp)"
      ],
      "metadata": {
        "id": "7ElXqFAlk9pW"
      },
      "execution_count": null,
      "outputs": []
    },
    {
      "cell_type": "code",
      "source": [
        "# Extracting out only the gene expression data from each of the cell line samples\n",
        "FMexp = melanoma_log2.loc[melanoma_log2.cell_line == 'FM','A1BG':]\n",
        "SK28exp = melanoma_log2.loc[melanoma_log2.cell_line == 'SK_MEL_28','A1BG':]\n",
        "SK147exp = melanoma_log2.loc[melanoma_log2.cell_line == 'SK_MEL_147','A1BG':]\n",
        "UACCexp = melanoma_log2.loc[melanoma_log2.cell_line == 'UACC_62','A1BG':]"
      ],
      "metadata": {
        "id": "p0Ub0s8nlCVi"
      },
      "execution_count": null,
      "outputs": []
    },
    {
      "cell_type": "markdown",
      "source": [
        "## Assessing the distribution of the data\n",
        "You can assess the percentiles with the `np.percentile()` function or the `.quantile()` method ."
      ],
      "metadata": {
        "id": "9_bhINM_lE-2"
      }
    },
    {
      "cell_type": "code",
      "source": [
        "np.percentile(metastaticExp.A1BG,[10,90])"
      ],
      "metadata": {
        "id": "o6giB6IBlIlC"
      },
      "execution_count": null,
      "outputs": []
    },
    {
      "cell_type": "code",
      "source": [
        "metastaticExp.A1BG.quantile([0.1,0.9])"
      ],
      "metadata": {
        "id": "gU4ZHCj9lLqe"
      },
      "execution_count": null,
      "outputs": []
    },
    {
      "cell_type": "code",
      "source": [
        "# Reminder from last time:\n",
        "# calculates the overall variance df.var() and sorts it in descending order\n",
        "overall_variance = melanoma_log2.loc[:,'A1BG':].var()\n",
        "overall_variance.sort_values(inplace = True, ascending= False)\n",
        "overall_variance.head()\n",
        "\n",
        "# extract gene names for top 10 most variably expressed genes\n",
        "topvarGens10 = overall_variance.index[:10]\n",
        "print(topvarGens10)\n"
      ],
      "metadata": {
        "id": "Vgl2uCtwlL2J"
      },
      "execution_count": null,
      "outputs": []
    },
    {
      "cell_type": "markdown",
      "source": [
        "## Hypothesis testing: comparing groups of samples\n",
        "\n",
        "Interpretation:\n",
        "\n",
        " - H0: the means of the samples are equal.\n",
        " - H1: the means of the samples are unequal.\n"
      ],
      "metadata": {
        "id": "IP5za6xVlTix"
      }
    },
    {
      "cell_type": "code",
      "source": [
        "# Start by printing out the expression values of the top variable genes\n",
        "print(normalExp.loc[:,topvarGens10])\n",
        "print(metastaticExp.loc[:,topvarGens10])"
      ],
      "metadata": {
        "id": "qv77TpeLlL4e"
      },
      "execution_count": null,
      "outputs": []
    },
    {
      "cell_type": "markdown",
      "source": [
        "### Comparing two samples, parametric: Student's t-test\n",
        "\n",
        "Tests whether the means of two independent samples are significantly different.\n",
        "\n",
        "Assumptions:\n",
        "\n",
        "- Observations in each sample are independent and identically distributed (iid).\n",
        "- Observations in each sample are normally distributed.\n",
        "- Observations in each sample have the same variance."
      ],
      "metadata": {
        "id": "MLJiiRAklaMx"
      }
    },
    {
      "cell_type": "markdown",
      "source": [
        "Let's compare the most variably expressed gene, PMEL."
      ],
      "metadata": {
        "id": "YILmFzLaFmLB"
      }
    },
    {
      "cell_type": "code",
      "source": [
        "# Show what PMEL's expression looks like.\n",
        "melanoma_log2['PMEL']"
      ],
      "metadata": {
        "id": "RYZpT9fFEdAd"
      },
      "execution_count": null,
      "outputs": []
    },
    {
      "cell_type": "code",
      "source": [
        "# test the significance of the difference in means with a 2-sample t-test (for independent samples)\n",
        "stat, p = stats.ttest_ind(normalExp.PMEL, metastaticExp.PMEL)\n",
        "print(stat) # the t-statistic\n",
        "print(p) # the p-value"
      ],
      "metadata": {
        "id": "RBwRpJX3la_S"
      },
      "execution_count": null,
      "outputs": []
    },
    {
      "cell_type": "markdown",
      "source": [
        "We can test what statistical power we have with making this comparison using the [Power and Sample Size Calculator](http://powerandsamplesize.com/Calculators/Compare-2-Means/2-Sample-Equality). We'll need to calculate as inputs the mean of each group and the standard deviation."
      ],
      "metadata": {
        "id": "vHZUcFA26OYx"
      }
    },
    {
      "cell_type": "code",
      "source": [
        "# using .groupby() to designate groupings by cell line\n",
        "mel_by_Stage = melanoma_log2.groupby('Stage')\n",
        "\n",
        "# calculate the means\n",
        "mel_by_Stage.PMEL.mean()"
      ],
      "metadata": {
        "id": "2cdApwCv6N-B"
      },
      "execution_count": null,
      "outputs": []
    },
    {
      "cell_type": "code",
      "source": [
        "# Calculate the standard deviations\n",
        "mel_by_Stage.PMEL.std()"
      ],
      "metadata": {
        "id": "v1yhNXLxENzH"
      },
      "execution_count": null,
      "outputs": []
    },
    {
      "cell_type": "markdown",
      "source": [
        "Note: for comparisons with unequal variances, you can specify `equal_var = False` as an argument in the `ttest_ind()` function."
      ],
      "metadata": {
        "id": "8cug7mV0IQA4"
      }
    },
    {
      "cell_type": "code",
      "source": [
        "# test the significance of the difference in means with a Welch's t-test (to account for unequal standard deviations)\n",
        "stat, p = stats.ttest_ind(normalExp.PMEL, metastaticExp.PMEL,equal_var = False)\n",
        "print(p) # the p-value"
      ],
      "metadata": {
        "id": "zdEKTeaLH8QA"
      },
      "execution_count": null,
      "outputs": []
    },
    {
      "cell_type": "markdown",
      "source": [
        "### <font color=blue> Optional Bonus: Code for Power and Sample Size Calculator implemented in Python\n",
        "\n",
        "This version of the code calculates a comparion between 2 Means: 2-Sample, 2-Sided Equality [based on implementation here](http://powerandsamplesize.com/Calculators/Compare-2-Means/2-Sample-Equality)."
      ],
      "metadata": {
        "id": "Twyhb5BL2WPt"
      }
    },
    {
      "cell_type": "code",
      "source": [
        "def SampleSizeCalcGivenPower(meanA, meanB, sd, SampleSizeRatioAB, alpha, power):\n",
        "  beta=1-power\n",
        "  nB=(1+1/SampleSizeRatioAB)*(sd*(stats.norm.ppf(1-alpha/2)+stats.norm.ppf(1-beta))/(meanA-meanB))**2\n",
        "  return math.ceil(nB) # 63\n",
        "\n",
        "def PowerCalcGivenSampleSize(meanA, meanB, sd, SampleSizeRatioAB, SampleSizeB, alpha):\n",
        "  z=(meanA-meanB)/(sd*math.sqrt((1+1/SampleSizeRatioAB)/SampleSizeB))\n",
        "  Power=stats.norm.cdf(z-stats.norm.ppf(1-alpha/2))+stats.norm.cdf(-z-stats.norm.ppf(1-alpha/2))\n",
        "  return Power"
      ],
      "metadata": {
        "id": "b2BBZlkp2wUk"
      },
      "execution_count": null,
      "outputs": []
    },
    {
      "cell_type": "code",
      "source": [
        "SampleSizeCalcGivenPower(5, 10, 10, 1, 0.05, 0.8)"
      ],
      "metadata": {
        "id": "P0XBGzxb6dAP"
      },
      "execution_count": null,
      "outputs": []
    },
    {
      "cell_type": "code",
      "source": [
        "PowerCalcGivenSampleSize(5, 10, 10, 1, 63, 0.05)"
      ],
      "metadata": {
        "id": "ZXT8QXzn8T1h"
      },
      "execution_count": null,
      "outputs": []
    },
    {
      "cell_type": "markdown",
      "source": [
        "### Comparing two samples, non-parametric: Mann-Whitney U-test\n",
        "\n",
        "Under some circumstances, the assumption for normality may not apply, in which case a non-parametric test might suit better.\n",
        "\n",
        "To test for the extent to which the data conform to normality, you can use the Shapiro test. Low p-values indicate that the data look different from normality. For more information about testing for normality, go [here](https://www.statology.org/normality-test-python/)."
      ],
      "metadata": {
        "id": "hoBInCd8leKT"
      }
    },
    {
      "cell_type": "markdown",
      "source": [
        "To test for the extent to which the data conform to normality, you can use the Shapiro test. Low p-values indicate that the data look different from normality. For more information about testing for normality, go [here](https://www.statology.org/normality-test-python/)."
      ],
      "metadata": {
        "id": "wP7EAGLrMEP0"
      }
    },
    {
      "cell_type": "code",
      "source": [
        "# test for normality in the primary cells\n",
        "stat, p_primary =  stats.shapiro(normalExp.PMEL)\n",
        "# test for normality in the metastatic cells\n",
        "stat, p_metastatic =  stats.shapiro(metastaticExp.PMEL)\n",
        "print(p_primary)\n",
        "print(p_metastatic)"
      ],
      "metadata": {
        "id": "U0t2sv3XKCK-"
      },
      "execution_count": null,
      "outputs": []
    },
    {
      "cell_type": "markdown",
      "source": [
        "Given that one of the groups noes not look super normal, worth considering using the non-parametric comparison test instead of the t-test."
      ],
      "metadata": {
        "id": "7TvYmSBu3yvV"
      }
    },
    {
      "cell_type": "markdown",
      "source": [
        "The Mann-Whitney U-test assesses whether the distributions of two independent samples are equal or not.\n",
        "\n",
        "Assumptions:\n",
        "\n",
        "- Observations in each sample are independent and identically distributed (iid).\n",
        "- Observations in each sample can be ranked.\n"
      ],
      "metadata": {
        "id": "IsO2EBng3nin"
      }
    },
    {
      "cell_type": "code",
      "source": [
        "# non-parametric test for significance of the difference in rank \n",
        "stat, p = stats.mannwhitneyu(normalExp.PMEL, metastaticExp.PMEL)\n",
        "print(p)\n"
      ],
      "metadata": {
        "id": "am3F8NiFlhD6"
      },
      "execution_count": null,
      "outputs": []
    },
    {
      "cell_type": "markdown",
      "source": [
        "### <font color=brown>Hands on practice</font>\n",
        "\n",
        "Find the gene with the highest overall mean expression. Use the Student's t-test to assess whether the gene's expression is different between the metastatic and the normal melanocyte samples. \n",
        "\n",
        "1. What is the resulting p-value? Is the expression significantly different between the two groups?\n",
        "\n",
        "2. What was the statistical power for this comparison? "
      ],
      "metadata": {
        "id": "Nn7J3j8nluKq"
      }
    },
    {
      "cell_type": "code",
      "source": [],
      "metadata": {
        "id": "nE4Yo1FeGXPd"
      },
      "execution_count": null,
      "outputs": []
    },
    {
      "cell_type": "code",
      "source": [],
      "metadata": {
        "id": "Pnow30eCA4E6"
      },
      "execution_count": null,
      "outputs": []
    },
    {
      "cell_type": "markdown",
      "source": [],
      "metadata": {
        "id": "9PsFh3VK90FV"
      }
    },
    {
      "cell_type": "markdown",
      "source": [
        "### <font color=blue> Optional Bonus: Comparing multiple samples, parametric -  Analysis of Variance Test (ANOVA)\n",
        "\n",
        "Tests whether the means of two or more independent samples are significantly different.\n",
        "\n",
        "Assumptions:\n",
        "\n",
        "- Observations in each sample are independent and identically distributed (iid).\n",
        "- Observations in each sample are normally distributed.\n",
        "- Observations in each sample have the same variance."
      ],
      "metadata": {
        "id": "grJormtcllip"
      }
    },
    {
      "cell_type": "code",
      "source": [
        "# ANOVA lets us see if any one of the cell lines has a significant difference in the mean\n",
        "stat, p = stats.f_oneway(FMexp.PMEL, SK147exp.PMEL, SK28exp.PMEL, UACCexp.PMEL)\n",
        "p"
      ],
      "metadata": {
        "id": "-3GW5BqmljMG"
      },
      "execution_count": null,
      "outputs": []
    },
    {
      "cell_type": "markdown",
      "source": [
        "### <font color=blue> Optional Bonus: Comparing multiple samples, non parametric - Kruskal-Wallis H Test\n",
        "\n",
        "Tests whether the distributions of two or more independent samples are equal or not.\n",
        "\n",
        "Assumptions:\n",
        "\n",
        "- Observations in each sample are independent and identically distributed (iid).\n",
        "- Observations in each sample can be ranked.\n"
      ],
      "metadata": {
        "id": "393rQ-jtlroy"
      }
    },
    {
      "cell_type": "code",
      "source": [
        "# The K-W H test lets us see if any one of the cell lines has a significant difference in the mean\n",
        "stat, p = stats.kruskal(FMexp.PMEL, SK147exp.PMEL, SK28exp.PMEL, UACCexp.PMEL)\n",
        "p"
      ],
      "metadata": {
        "id": "FNnvxjIUlsKr"
      },
      "execution_count": null,
      "outputs": []
    }
  ]
}